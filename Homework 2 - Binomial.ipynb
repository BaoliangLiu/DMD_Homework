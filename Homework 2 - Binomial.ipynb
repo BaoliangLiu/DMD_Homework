{
 "cells": [
  {
   "cell_type": "code",
   "execution_count": 1,
   "metadata": {
    "collapsed": false
   },
   "outputs": [],
   "source": [
    "import pylab as pl\n",
    "%matplotlib inline\n",
    "import numpy as np\n",
    "from scipy import stats"
   ]
  },
  {
   "cell_type": "code",
   "execution_count": 2,
   "metadata": {
    "collapsed": false
   },
   "outputs": [
    {
     "name": "stdout",
     "output_type": "stream",
     "text": [
      "Exercise 2.29\n",
      "Exercise 2.29 (a)\n"
     ]
    },
    {
     "data": {
      "image/png": "[encoded data removed]",
      "text/plain": [
       "<matplotlib.figure.Figure at 0x10483b150>"
      ]
     },
     "metadata": {},
     "output_type": "display_data"
    }
   ],
   "source": [
    "print \"Exercise 2.29\"\n",
    "\n",
    "print \"Exercise 2.29 (a)\"\n",
    "# Number\n",
    "n = 9\n",
    "k = np.arange(n+1)\n",
    "binomial = stats.binom.pmf(k, n, 0.06)  # possibility\n",
    "\n",
    "pl.stem(k, binomial, basefmt=\"k-\")\n",
    "pl.margins(0.1)\n",
    "\n",
    "possibility_one = binomial[1]\n",
    "possibility_equal_or_greater_than_one = sum(binomial[2:])"
   ]
  },
  {
   "cell_type": "code",
   "execution_count": 3,
   "metadata": {
    "collapsed": false
   },
   "outputs": [
    {
     "name": "stdout",
     "output_type": "stream",
     "text": [
      "The binomial is [  5.72994802e-01   3.29167227e-01   8.40426962e-02   1.25169973e-02\n",
      "   1.19843591e-03   7.64959093e-05   3.25514508e-06   8.90465219e-08\n",
      "   1.42095514e-09   1.00776960e-11]\n",
      "The probability that exactly one of them will be audited next year is 0.329167226812\n",
      "The probability that more than one of them will be audited next year 0.0978379709592\n"
     ]
    }
   ],
   "source": [
    "print \"The binomial is\", binomial\n",
    "print \"The probability that exactly one of them will be audited next year is\", possibility_one\n",
    "print \"The probability that more than one of them will be audited next year\", possibility_equal_or_greater_than_one"
   ]
  },
  {
   "cell_type": "code",
   "execution_count": 4,
   "metadata": {
    "collapsed": false
   },
   "outputs": [
    {
     "name": "stdout",
     "output_type": "stream",
     "text": [
      "Exercise 2.29 (b)\n"
     ]
    },
    {
     "data": {
      "image/png": "[encoded data removed]",
      "text/plain": [
       "<matplotlib.figure.Figure at 0x104a7e790>"
      ]
     },
     "metadata": {},
     "output_type": "display_data"
    }
   ],
   "source": [
    "print \"Exercise 2.29 (b)\"\n",
    "# Number\n",
    "n = 6\n",
    "k = np.arange(n+1)\n",
    "binomial = stats.binom.pmf(k, n, 0.12)  # possibility\n",
    "\n",
    "pl.stem(k, binomial, basefmt=\"k-\")\n",
    "pl.margins(0.1)\n",
    "\n",
    "possibility_one = binomial[1]\n",
    "possibility_equal_or_greater_than_one = sum(binomial[2:])"
   ]
  },
  {
   "cell_type": "code",
   "execution_count": 5,
   "metadata": {
    "collapsed": false
   },
   "outputs": [
    {
     "name": "stdout",
     "output_type": "stream",
     "text": [
      "The binomial is [  4.64404087e-01   3.79966980e-01   1.29534198e-01   2.35516723e-02\n",
      "   2.40869376e-03   1.31383296e-04   2.98598400e-06]\n",
      "The probability that exactly one of them will be audited next year is 0.379966980096\n",
      "The probability that more than one of them will be audited next year 0.15562893312\n"
     ]
    }
   ],
   "source": [
    "print \"The binomial is\", binomial\n",
    "print \"The probability that exactly one of them will be audited next year is\", possibility_one\n",
    "print \"The probability that more than one of them will be audited next year\", possibility_equal_or_greater_than_one"
   ]
  },
  {
   "cell_type": "code",
   "execution_count": 6,
   "metadata": {
    "collapsed": false
   },
   "outputs": [
    {
     "name": "stdout",
     "output_type": "stream",
     "text": [
      "Exercise 2.29 (c)\n",
      "The probability that none of these taxpayers will be audited by the IRS next year 0.6432042496\n"
     ]
    }
   ],
   "source": [
    "print \"Exercise 2.29 (c)\"\n",
    "# Number\n",
    "n = 2\n",
    "k = np.arange(n+1)\n",
    "binomial_1 = stats.binom.pmf(k, n, 0.12)  # possibility\n",
    "\n",
    "# Number\n",
    "n = 3\n",
    "k = np.arange(n+1)\n",
    "binomial_2 = stats.binom.pmf(k, n, 0.06)  # possibility\n",
    "\n",
    "possibility_none = binomial_1[0] * binomial_2[0]\n",
    "print \"The probability that none of these taxpayers will be audited by the IRS next year\", possibility_none"
   ]
  },
  {
   "cell_type": "code",
   "execution_count": 7,
   "metadata": {
    "collapsed": false
   },
   "outputs": [
    {
     "name": "stdout",
     "output_type": "stream",
     "text": [
      "Exercise 2.33\n",
      "Exercise 2.33 (a)\n",
      "The probability of exact 7 months is 0.20391956679\n"
     ]
    },
    {
     "data": {
      "image/png": "[encoded data removed]",
      "text/plain": [
       "<matplotlib.figure.Figure at 0x104af7510>"
      ]
     },
     "metadata": {},
     "output_type": "display_data"
    }
   ],
   "source": [
    "print \"Exercise 2.33\"\n",
    "# Number\n",
    "n = 12\n",
    "k = np.arange(n+1)\n",
    "binomial = stats.binom.pmf(k, n, 0.65)  # possibility\n",
    "\n",
    "pl.stem(k, binomial, basefmt=\"k-\")\n",
    "pl.margins(0.1)\n",
    "\n",
    "print \"Exercise 2.33 (a)\"\n",
    "print \"The probability of exact 7 months is\", binomial[7]"
   ]
  },
  {
   "cell_type": "code",
   "execution_count": 8,
   "metadata": {
    "collapsed": false
   },
   "outputs": [
    {
     "name": "stdout",
     "output_type": "stream",
     "text": [
      "Exercise 2.33 (b)\n",
      "The expected change is 0.222\n"
     ]
    }
   ],
   "source": [
    "print \"Exercise 2.33 (b)\"\n",
    "expectation = sum(x * y for x, y in zip(range(0, 13), binomial))\n",
    "print \"The expected change is\", 0.05 * expectation - 0.04 * (12 - expectation)"
   ]
  },
  {
   "cell_type": "code",
   "execution_count": 9,
   "metadata": {
    "collapsed": false
   },
   "outputs": [
    {
     "name": "stdout",
     "output_type": "stream",
     "text": [
      "Exercise 2.27\n",
      "Exercise 2.27 (a)\n",
      "The probability for at most 5 persons is 0.01165420544\n"
     ]
    },
    {
     "data": {
      "image/png": "[encoded data removed]",
      "text/plain": [
       "<matplotlib.figure.Figure at 0x1049fe510>"
      ]
     },
     "metadata": {},
     "output_type": "display_data"
    }
   ],
   "source": [
    "print \"Exercise 2.27\"\n",
    "print \"Exercise 2.27 (a)\"\n",
    "# Number\n",
    "n = 11\n",
    "k = np.arange(n+1)\n",
    "binomial = stats.binom.pmf(k, n, 1 - 0.2)  # possibility\n",
    "\n",
    "pl.stem(k, binomial, basefmt=\"k-\")\n",
    "pl.margins(0.1)\n",
    "\n",
    "#print binomial\n",
    "print \"The probability for at most 5 persons is\", sum(binomial[:6])"
   ]
  },
  {
   "cell_type": "code",
   "execution_count": 10,
   "metadata": {
    "collapsed": false
   },
   "outputs": [
    {
     "name": "stdout",
     "output_type": "stream",
     "text": [
      "Exercise 2.27 (b)\n",
      "The probability for excact 10 persons is 0.23622320128\n"
     ]
    }
   ],
   "source": [
    "print \"Exercise 2.27 (b)\"\n",
    "print \"The probability for excact 10 persons is\", binomial[10]"
   ]
  },
  {
   "cell_type": "code",
   "execution_count": 11,
   "metadata": {
    "collapsed": false
   },
   "outputs": [
    {
     "name": "stdout",
     "output_type": "stream",
     "text": [
      "Exercise 2.27 (c)\n",
      "10302.3019622\n"
     ]
    }
   ],
   "source": [
    "print \"Exercise 2.27 (c)\"\n",
    "expectation = sum(1200 * x * y for x, y in zip(range(0, 12), binomial)) - 3000 * binomial[11]\n",
    "print expectation"
   ]
  },
  {
   "cell_type": "code",
   "execution_count": 12,
   "metadata": {
    "collapsed": false
   },
   "outputs": [
    {
     "name": "stdout",
     "output_type": "stream",
     "text": [
      "Exercise 2.27 (d)\n",
      "The expected profit is 9600.0\n"
     ]
    }
   ],
   "source": [
    "print \"Exercise 2.27 (d)\"\n",
    "expectation = 10 * 0.8 * 1200\n",
    "print \"The expected profit is\", expectation"
   ]
  },
  {
   "cell_type": "code",
   "execution_count": 13,
   "metadata": {
    "collapsed": false
   },
   "outputs": [
    {
     "name": "stdout",
     "output_type": "stream",
     "text": [
      "Exercise 2.27 (e)\n",
      "Yes, most likely one's friend would also show up if he or she shows up.\n"
     ]
    }
   ],
   "source": [
    "print \"Exercise 2.27 (e)\"\n",
    "print \"Yes, most likely one's friend would also show up if he or she shows up.\""
   ]
  },
  {
   "cell_type": "code",
   "execution_count": null,
   "metadata": {
    "collapsed": true
   },
   "outputs": [],
   "source": []
  }
 ],
 "metadata": {
  "kernelspec": {
   "display_name": "Python 2",
   "language": "python",
   "name": "python2"
  },
  "language_info": {
   "codemirror_mode": {
    "name": "ipython",
    "version": 2
   },
   "file_extension": ".py",
   "mimetype": "text/x-python",
   "name": "python",
   "nbconvert_exporter": "python",
   "pygments_lexer": "ipython2",
   "version": "2.7.10"
  }
 },
 "nbformat": 4,
 "nbformat_minor": 0
}
