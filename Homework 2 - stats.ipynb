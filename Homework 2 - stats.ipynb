{
 "cells": [
  {
   "cell_type": "code",
   "execution_count": 1,
   "metadata": {
    "collapsed": false
   },
   "outputs": [],
   "source": [
    "import numpy as np\n",
    "# data array\n",
    "import math\n",
    "\n",
    "def expectation(value_list, possibility_list=[]):\n",
    "    \"\"\"\n",
    "    Calculate expectation\n",
    "    \"\"\"\n",
    "    if not possibility_list:\n",
    "        possibility_list = [1 / len(value_list)] * len(value_list)\n",
    "    assert len(value_list) == len(possibility_list)\n",
    "        \n",
    "    return sum([1.0 * v * p for v, p in zip(value_list, possibility_list)])\n",
    "\n",
    "def variance(value_list, possibility_list=[]):\n",
    "    \"\"\"\n",
    "    Calculate variance\n",
    "    \"\"\"\n",
    "    if not possibility_list:\n",
    "        possibility_list = [1 / len(value_list)] * len(value_list)\n",
    "    assert len(value_list) == len(possibility_list)   \n",
    "    \n",
    "    exp = expectation(value_list, possibility_list)\n",
    "    return sum(([1.0 * (v - exp) ** 2 * p for v, p in zip(value_list, possibility_list)]))\n",
    "\n",
    "def standard_deviation(value_list, possibility_list=[]):\n",
    "    var = variance(value_list, possibility_list)\n",
    "    return math.sqrt(var)\n",
    "\n",
    "def stats(value_list, possibility_list=[]):\n",
    "    \"\"\"\n",
    "    Calculate expectation, variance and standard deviation\n",
    "    \"\"\"\n",
    "    exp = expectation(value_list, possibility_list)\n",
    "    var = variance(value_list, possibility_list)\n",
    "    std = standard_deviation(value_list, possibility_list)\n",
    "    return exp, var, std\n",
    "\n",
    "def covariance(x_value_list, y_value_list, possibility_list=[]):\n",
    "    \"\"\"\n",
    "    Calculate covariance\n",
    "    \"\"\"\n",
    "    #if not possibility_list:\n",
    "    #    possibility_list = [1 / len(x_value_list)] * len(x_value_list)\n",
    "    #assert len(value_list) == len(possibility_list)\n",
    "    x_exp = expectation(x_value_list, possibility_list)\n",
    "    y_exp = expectation(y_value_list, possibility_list)\n",
    "    return sum([p * (x - x_exp) * (y - y_exp) for x, y, p in zip(x_value_list, y_value_list, possibility_list)])\n",
    "\n",
    "def correlation(x_value_list, y_value_list, possibility_list=[]):\n",
    "    cov = covariance(x_value_list, y_value_list, possibility_list)\n",
    "    x_std = standard_deviation(x_value_list, possibility_list)\n",
    "    y_std = standard_deviation(y_value_list, possibility_list)\n",
    "    return cov / (x_std * y_std)"
   ]
  },
  {
   "cell_type": "code",
   "execution_count": 2,
   "metadata": {
    "collapsed": false
   },
   "outputs": [
    {
     "name": "stdout",
     "output_type": "stream",
     "text": [
      "Exercise 2.21\n",
      "The distribution of the data is \n",
      "[{'sales': 15, 'possibility': 0.1, 'revenue': 1.53}\n",
      " {'sales': 20, 'possibility': 0.2, 'revenue': 1.06}\n",
      " {'sales': 25, 'possibility': 0.25, 'revenue': 2.16}\n",
      " {'sales': 30, 'possibility': 0.25, 'revenue': 3.85}\n",
      " {'sales': 35, 'possibility': 0.2, 'revenue': 4.03}]\n",
      "Exercise 2.21 (a)\n",
      "The expectation of sales is 26.25\n",
      "The variance of sales is 39.6875\n",
      "The standard deviation of sales is 6.29980158418\n"
     ]
    }
   ],
   "source": [
    "print \"Exercise 2.21\"\n",
    "array = np.array([\n",
    "    {'possibility': 0.10, 'sales': 15, 'revenue': 1.53},\n",
    "    {'possibility': 0.20, 'sales': 20, 'revenue': 1.06},\n",
    "    {'possibility': 0.25, 'sales': 25, 'revenue': 2.16},\n",
    "    {'possibility': 0.25, 'sales': 30, 'revenue': 3.85},\n",
    "    {'possibility': 0.20, 'sales': 35, 'revenue': 4.03}])\n",
    "print \"The distribution of the data is \\n\", array\n",
    "\n",
    "exp, var, std = stats([x['sales'] for x in array], [x['possibility'] for x in array])\n",
    "\n",
    "print \"Exercise 2.21 (a)\"\n",
    "print \"The expectation of sales is\", exp\n",
    "print \"The variance of sales is\", var\n",
    "print \"The standard deviation of sales is\", std"
   ]
  },
  {
   "cell_type": "code",
   "execution_count": 3,
   "metadata": {
    "collapsed": false,
    "scrolled": true
   },
   "outputs": [
    {
     "name": "stdout",
     "output_type": "stream",
     "text": [
      "Exercise 2.21 (b)\n",
      "The expectation of revenue is 2.6735\n",
      "The variance of revenue is 1.43141275\n",
      "The standard deviation of revenue is 1.19641662894\n"
     ]
    }
   ],
   "source": [
    "exp, var, std = stats([x['revenue'] for x in array], [x['possibility'] for x in array])\n",
    "\n",
    "print \"Exercise 2.21 (b)\"\n",
    "print \"The expectation of revenue is\", exp\n",
    "print \"The variance of revenue is\", var\n",
    "print \"The standard deviation of revenue is\", std"
   ]
  },
  {
   "cell_type": "code",
   "execution_count": 4,
   "metadata": {
    "collapsed": false
   },
   "outputs": [
    {
     "name": "stdout",
     "output_type": "stream",
     "text": [
      "Exercise 2.21 (c)\n",
      "The covariance of sales and revenue is 6.940625\n",
      "The correlation of sales and revenue is 0.920850796896\n"
     ]
    }
   ],
   "source": [
    "cov = covariance([x['sales'] for x in array], [x['revenue'] for x in array], [x['possibility'] for x in array])\n",
    "corr =  correlation([x['sales'] for x in array], [x['revenue'] for x in array], [x['possibility'] for x in array])\n",
    "print \"Exercise 2.21 (c)\"\n",
    "print \"The covariance of sales and revenue is\", cov\n",
    "print \"The correlation of sales and revenue is\", corr"
   ]
  },
  {
   "cell_type": "code",
   "execution_count": 5,
   "metadata": {
    "collapsed": false
   },
   "outputs": [
    {
     "name": "stdout",
     "output_type": "stream",
     "text": [
      "Exercise 2.23\n",
      "CORR(X, Y) is -0.407834101382\n"
     ]
    }
   ],
   "source": [
    "expectation_x = 0.25\n",
    "expectation_y = 33.1\n",
    "std_x = 7.0\n",
    "std_y = 6.2\n",
    "covar = -17.7\n",
    "\n",
    "corr = covar/ (std_x * std_y)\n",
    "print \"Exercise 2.23\"\n",
    "print \"CORR(X, Y) is\", corr"
   ]
  },
  {
   "cell_type": "code",
   "execution_count": 6,
   "metadata": {
    "collapsed": false
   },
   "outputs": [
    {
     "name": "stdout",
     "output_type": "stream",
     "text": [
      "Exercise 2.20\n",
      "Exercise 2.20 (a)\n",
      "The mean of X is 227\n"
     ]
    }
   ],
   "source": [
    "Andover_exp = 91\n",
    "Andover_std = 3.2\n",
    "Bedford_exp = 67\n",
    "Bedford_std = 2.2\n",
    "Concord_exp = 69\n",
    "Concord_std = 5.7\n",
    "\n",
    "exp = Andover_exp + Bedford_exp + Concord_exp\n",
    "print \"Exercise 2.20\"\n",
    "print \"Exercise 2.20 (a)\"\n",
    "print \"The mean of X is\", exp"
   ]
  },
  {
   "cell_type": "code",
   "execution_count": 7,
   "metadata": {
    "collapsed": false
   },
   "outputs": [
    {
     "name": "stdout",
     "output_type": "stream",
     "text": [
      "Exercise 2.20 (b)\n",
      "The variance of X is 47.57\n",
      "The standard deviation of X is 6.89710084021\n"
     ]
    }
   ],
   "source": [
    "var = Andover_std ** 2 + Bedford_std ** 2 + Concord_std ** 2\n",
    "std = math.sqrt(var)\n",
    "print \"Exercise 2.20 (b)\"\n",
    "print \"The variance of X is\", var\n",
    "print \"The standard deviation of X is\", std"
   ]
  },
  {
   "cell_type": "code",
   "execution_count": 8,
   "metadata": {
    "collapsed": false
   },
   "outputs": [
    {
     "name": "stdout",
     "output_type": "stream",
     "text": [
      "Exercise 2.12\n",
      "Exercise 2.12 (c)\n",
      "The expectation of return is 11.74 %\n"
     ]
    }
   ],
   "source": [
    "print \"Exercise 2.12\"\n",
    "\n",
    "investment_percents = [9, 10, 11, 12, 13, 14, 15]\n",
    "possibilities = [0.07, 0.15, 0.23, 0.25, 0.15, 0.12, 0.03]\n",
    "exp, var, std = stats(investment_percents, possibilities)\n",
    "\n",
    "print \"Exercise 2.12 (c)\"\n",
    "print \"The expectation of return is\", exp, \"%\""
   ]
  },
  {
   "cell_type": "code",
   "execution_count": 9,
   "metadata": {
    "collapsed": false
   },
   "outputs": [
    {
     "name": "stdout",
     "output_type": "stream",
     "text": [
      "Exercise 2.12 (d)\n",
      "The variance of return is 2.2924\n",
      "The standard deviation of return is 1.5140673697\n"
     ]
    }
   ],
   "source": [
    "print \"Exercise 2.12 (d)\"\n",
    "print \"The variance of return is\", var\n",
    "print \"The standard deviation of return is\", std"
   ]
  },
  {
   "cell_type": "code",
   "execution_count": 10,
   "metadata": {
    "collapsed": false
   },
   "outputs": [
    {
     "name": "stdout",
     "output_type": "stream",
     "text": [
      "Exercise 2.13\n",
      "Exercise 2.13 (b)\n",
      "The expectation of sales is 2.98\n",
      "The variance of sales is 1.6796\n",
      "The standard deviation of sales is 1.29599382715\n"
     ]
    }
   ],
   "source": [
    "print \"Exercise 2.13\"\n",
    "\n",
    "numbers = range(6)\n",
    "possibilities = [0.05, 0.07, 0.22, 0.29, 0.25, 0.12]\n",
    "exp, var, std = stats(numbers, possibilities)\n",
    "\n",
    "print \"Exercise 2.13 (b)\"\n",
    "print \"The expectation of sales is\", exp\n",
    "print \"The variance of sales is\", var\n",
    "print \"The standard deviation of sales is\", std"
   ]
  },
  {
   "cell_type": "code",
   "execution_count": 11,
   "metadata": {
    "collapsed": false
   },
   "outputs": [
    {
     "name": "stdout",
     "output_type": "stream",
     "text": [
      "Exercise 2.14\n",
      "Exercise 2.14 (b)\n",
      "The expectation, variance, standard deviation of task A are 1.6 , 0.24 , 0.489897948557\n",
      "The expectation, variance, standard deviation of task B are 2.02 , 0.4196 , 0.647765389628\n",
      "The expectation, variance, standard deviation of all tasks are 2.15 , 0.2675 , 0.517204021639\n"
     ]
    }
   ],
   "source": [
    "print \"Exercise 2.14\"\n",
    "\n",
    "array = [{\"week_A\": 1, \"week_B\": 1, \"possibility\": 0.07},\n",
    "         {\"week_A\": 1, \"week_B\": 2, \"possibility\": 0.27},\n",
    "         {\"week_A\": 1, \"week_B\": 3, \"possibility\": 0.06},\n",
    "         {\"week_A\": 2, \"week_B\": 1, \"possibility\": 0.13},\n",
    "         {\"week_A\": 2, \"week_B\": 2, \"possibility\": 0.31},\n",
    "         {\"week_A\": 2, \"week_B\": 3, \"possibility\": 0.16},\n",
    "        ]\n",
    "print \"Exercise 2.14 (b)\"\n",
    "exp_A, var_A, std_A = stats([1, 2], [0.07+0.27+0.06, 0.13+0.31+0.16])\n",
    "exp_B, var_B, std_B = stats([1, 2, 3], [0.07+0.13, 0.27+0.31, 0.06+0.16])\n",
    "exp_all, var_all, std_all = stats([1, 2, 3], [0.07, 0.27+0.31+0.13, 0.06+0.16])\n",
    "print \"The expectation, variance, standard deviation of task A are\", exp_A, ',', var_A, ',', std_A\n",
    "print \"The expectation, variance, standard deviation of task B are\", exp_B, ',', var_B, ',', std_B\n",
    "print \"The expectation, variance, standard deviation of all tasks are\", exp_all, ',', var_all, ',', std_all"
   ]
  },
  {
   "cell_type": "code",
   "execution_count": 12,
   "metadata": {
    "collapsed": false
   },
   "outputs": [
    {
     "name": "stdout",
     "output_type": "stream",
     "text": [
      "Exercise 2.14 (c)\n",
      "The probability distribution is as follows\n",
      "{'cost': 2200, 'possibility': 0.07}\n",
      "{'cost': 3400, 'possibility': 0.13}\n",
      "{'cost': 3600, 'possibility': 0.27}\n",
      "{'cost': 4400, 'possibility': 0.31}\n",
      "{'cost': 5000, 'possibility': 0.06}\n",
      "{'cost': 5800, 'possibility': 0.16}\n",
      "The expectation, variance, standard deviation of all task cost are 4160.0 , 919200.0 , 958.749185137\n"
     ]
    }
   ],
   "source": [
    "print \"Exercise 2.14 (c)\"\n",
    "array_cost = [{'cost_A': x['week_A'] * 800, 'cost_B': x['week_B'] * 400, 'possibility': x['possibility']} for x in array]\n",
    "array_cost_all = [{'cost': 2200, 'possibility': 0.07},\n",
    "                 {'cost': 3400, 'possibility': 0.13},\n",
    "                 {'cost': 3600, 'possibility': 0.27},\n",
    "                 {'cost': 4400, 'possibility': 0.31},\n",
    "                 {'cost': 5000, 'possibility': 0.06},\n",
    "                 {'cost': 5800, 'possibility': 0.16}]\n",
    "exp_all, var_all, std_all = stats([x['cost'] for x in array_cost_all], [x['possibility'] for x in array_cost_all])\n",
    "print \"The probability distribution is as follows\"\n",
    "for x in array_cost_all:\n",
    "    print x\n",
    "print \"The expectation, variance, standard deviation of all task cost are\", exp_all, ',', var_all, ',', std_all"
   ]
  },
  {
   "cell_type": "code",
   "execution_count": 13,
   "metadata": {
    "collapsed": false
   },
   "outputs": [
    {
     "name": "stdout",
     "output_type": "stream",
     "text": [
      "Exercise 2.15\n",
      "Exercise 2.15 (e)\n",
      "The mean and standard deviation of the weekly revenue after deducting payments to pool instructors are 50500.0 , 22599.77876\n"
     ]
    }
   ],
   "source": [
    "print \"Exercise 2.15\"\n",
    "\n",
    "course_num = range(7)\n",
    "possibilities = [0.05, 0.15, 0.25, 0.25, 0.15, 0.10, 0.05]\n",
    "revenue = [0, 20000, 20000*2, 20000*3, 60000+20000*0.45, 60000+2*20000*0.45, 60000+3*20000*0.45]\n",
    "\n",
    "exp, var, std = stats(revenue, possibilities)\n",
    "\n",
    "print \"Exercise 2.15 (e)\"\n",
    "print \"The mean and standard deviation of the weekly revenue after deducting payments to pool instructors are\", \\\n",
    "exp, ',', std"
   ]
  },
  {
   "cell_type": "code",
   "execution_count": 14,
   "metadata": {
    "collapsed": false
   },
   "outputs": [
    {
     "name": "stdout",
     "output_type": "stream",
     "text": [
      "Exercise 2.15 (f)\n",
      "mean of adding 1 instructor: 51300.0\n",
      "mean of adding 2 instructors: 50450.0\n",
      "mean of adding 3 instructors: 48500.0\n",
      "so only 1 instructor should be added in.\n"
     ]
    }
   ],
   "source": [
    "print \"Exercise 2.15 (f)\"\n",
    "revenue_add_1 = [0-2500, 20000-2500, 20000*2-2500, 20000*3-2500, 4*20000-2500,\n",
    "                 4*20000+1*20000*0.45-2500, 4*20000+2*20000*0.45-2500]\n",
    "exp_add_1 = expectation(revenue_add_1, possibilities)\n",
    "revenue_add_1 = [0-2500, 20000-2500, 20000*2-2500, 20000*3-2500, 4*20000-2500,\n",
    "                 4*20000+1*20000*0.45-2500, 4*20000+2*20000*0.45-2500]\n",
    "exp_add_2 = expectation(revenue_add_1, possibilities)\n",
    "revenue_add_2 = [0-2500*2, 20000-2500*2, 20000*2-2500*2, 20000*3-2500*2, 4*20000-2500*2,\n",
    "                 5*20000-2500*2, 5*20000+20000*0.45-2500*2]\n",
    "exp_add_2 = expectation(revenue_add_2, possibilities)\n",
    "revenue_add_3 = [0-2500*3, 20000-2500*3, 20000*2-2500*3, 20000*3-2500*3, 4*20000-2500*3,\n",
    "                 5*20000-2500*3, 6*20000-2500*3]\n",
    "exp_add_3 = expectation(revenue_add_3, possibilities)\n",
    "\n",
    "\n",
    "print 'mean of adding 1 instructor:', exp_add_1\n",
    "print 'mean of adding 2 instructors:', exp_add_2\n",
    "print 'mean of adding 3 instructors:', exp_add_3\n",
    "print 'so only 1 instructor should be added in.'"
   ]
  },
  {
   "cell_type": "code",
   "execution_count": 15,
   "metadata": {
    "collapsed": false
   },
   "outputs": [
    {
     "name": "stdout",
     "output_type": "stream",
     "text": [
      "Exercise 2.17\n",
      "Exercise 2.17 (a)\n",
      "Bill drove 625.0 miles\n"
     ]
    }
   ],
   "source": [
    "print \"Exercise 2.17\"\n",
    "miles = [200, 300, 400, 500, 600, 700, 800, 900]\n",
    "possibilities = [0.07, 0.19, 0.23, 0.14, 0.07, 0.13, 0.09, 0.08]\n",
    "\n",
    "print \"Exercise 2.17 (a)\"\n",
    "print \"Bill drove\", (195-130)/0.2+300, \"miles\""
   ]
  },
  {
   "cell_type": "code",
   "execution_count": 16,
   "metadata": {
    "collapsed": false
   },
   "outputs": [
    {
     "name": "stdout",
     "output_type": "stream",
     "text": [
      "Exercise 2.17 (b)\n",
      "The probability that a randomly selected rent-a-car customer will find a better price at ECR is 0.3\n"
     ]
    }
   ],
   "source": [
    "print \"Exercise 2.17 (b)\"\n",
    "print \"The probability that a randomly selected rent-a-car customer will find a better price at ECR is\", 0.13+0.09+0.08"
   ]
  },
  {
   "cell_type": "code",
   "execution_count": 17,
   "metadata": {
    "collapsed": false
   },
   "outputs": [
    {
     "name": "stdout",
     "output_type": "stream",
     "text": [
      "Exercise 2.17 (c)\n",
      "Normalized possibilites are [0.10000000000000002, 0.27142857142857146, 0.3285714285714286, 0.20000000000000004, 0.10000000000000002]\n",
      "The expected cost is 148.571428571\n"
     ]
    }
   ],
   "source": [
    "print \"Exercise 2.17 (c)\"\n",
    "def normalize(possibilities):\n",
    "    total = sum(possibilities)\n",
    "    return [p / total for p in possibilities]\n",
    "print \"Normalized possibilites are\", normalize(possibilities[:5])\n",
    "exp = expectation(miles[:5], normalize(possibilities[:5]))\n",
    "print \"The expected cost is\", (exp-300)*0.2 +130"
   ]
  },
  {
   "cell_type": "code",
   "execution_count": 18,
   "metadata": {
    "collapsed": false
   },
   "outputs": [
    {
     "name": "stdout",
     "output_type": "stream",
     "text": [
      "Exercise 2.28\n",
      "Exercise 2.28 (a)\n",
      "The expected number of defective chips in your sample is 75.0\n"
     ]
    }
   ],
   "source": [
    "print \"Exercise 2.28\"\n",
    "print \"Exercise 2.28 (a)\"\n",
    "print \"The expected number of defective chips in your sample is\", 500 * 0.15"
   ]
  },
  {
   "cell_type": "code",
   "execution_count": 19,
   "metadata": {
    "collapsed": false
   },
   "outputs": [
    {
     "name": "stdout",
     "output_type": "stream",
     "text": [
      "Exercise 2.28 (b)\n",
      "The standard deviation of the number of defective chips is 7.98435971134\n"
     ]
    }
   ],
   "source": [
    "print \"Exercise 2.28 (b)\"\n",
    "print \"The standard deviation of the number of defective chips is\", math.sqrt(500 * 0.15 * (1 - 0.15))"
   ]
  },
  {
   "cell_type": "code",
   "execution_count": 20,
   "metadata": {
    "collapsed": false
   },
   "outputs": [
    {
     "name": "stdout",
     "output_type": "stream",
     "text": [
      "Exercise 2.32\n",
      "Exercise 2.32 (a)\n",
      "The 6 customers are independent.\n"
     ]
    }
   ],
   "source": [
    "print \"Exercise 2.32\"\n",
    "print \"Exercise 2.32 (a)\"\n",
    "print \"The 6 customers are independent.\""
   ]
  },
  {
   "cell_type": "code",
   "execution_count": 21,
   "metadata": {
    "collapsed": false
   },
   "outputs": [
    {
     "name": "stdout",
     "output_type": "stream",
     "text": [
      "Exercise 2.32 (b)\n"
     ]
    },
    {
     "data": {
      "image/png": "[encoded data removed]",
      "text/plain": [
       "<matplotlib.figure.Figure at 0x1118cebd0>"
      ]
     },
     "metadata": {},
     "output_type": "display_data"
    }
   ],
   "source": [
    "print \"Exercise 2.32 (b)\"\n",
    "import pylab as pl\n",
    "%matplotlib inline\n",
    "import numpy as np\n",
    "from scipy import stats as stats_2\n",
    "\n",
    "n = 6\n",
    "k = np.arange(n+1)\n",
    "binomial = stats_2.binom.pmf(k, n, 0.8)  # possibility\n",
    "\n",
    "pl.stem(k, binomial, basefmt=\"k-\")\n",
    "pl.margins(0.1)"
   ]
  },
  {
   "cell_type": "code",
   "execution_count": 22,
   "metadata": {
    "collapsed": false
   },
   "outputs": [
    {
     "name": "stdout",
     "output_type": "stream",
     "text": [
      "The distribution is as follows.\n",
      "(0, 6.3999999999999956e-05)\n",
      "(1, 0.0015360000000000011)\n",
      "(2, 0.01536)\n",
      "(3, 0.081920000000000007)\n",
      "(4, 0.24575999999999998)\n",
      "(5, 0.39321600000000018)\n",
      "(6, 0.2621440000000001)\n"
     ]
    }
   ],
   "source": [
    "distribution = [(a, b) for a, b in zip(range(7), binomial)]\n",
    "print \"The distribution is as follows.\"\n",
    "for x in distribution:\n",
    "    print x"
   ]
  },
  {
   "cell_type": "code",
   "execution_count": 23,
   "metadata": {
    "collapsed": false
   },
   "outputs": [
    {
     "name": "stdout",
     "output_type": "stream",
     "text": [
      "Exercise 2.32 (c)\n",
      "The probability that exactly three of the six customers will prefer thick crust pizza 0.08192\n",
      "They should be satisfied.\n"
     ]
    }
   ],
   "source": [
    "print \"Exercise 2.32 (c)\"\n",
    "print \"The probability that exactly three of the six customers will prefer thick crust pizza\", binomial[3]\n",
    "print \"They should be satisfied.\""
   ]
  },
  {
   "cell_type": "code",
   "execution_count": 24,
   "metadata": {
    "collapsed": false
   },
   "outputs": [
    {
     "name": "stdout",
     "output_type": "stream",
     "text": [
      "Exercise 2.32 (d)\n",
      "[0, 1, 2, 3, 4, 5, 6]\n",
      "[  6.40000000e-05   1.53600000e-03   1.53600000e-02   8.19200000e-02\n",
      "   2.45760000e-01   3.93216000e-01   2.62144000e-01]\n",
      "The expected number and standard deviation are 4.79 , 0.9828021164\n"
     ]
    }
   ],
   "source": [
    "print \"Exercise 2.32 (d)\"\n",
    "print range(7)\n",
    "print binomial\n",
    "exp, var, std = stats(range(7), [float(round(x, 2)) for x in binomial])\n",
    "\n",
    "print \"The expected number and standard deviation are\", exp, ',', std"
   ]
  },
  {
   "cell_type": "code",
   "execution_count": 25,
   "metadata": {
    "collapsed": false
   },
   "outputs": [
    {
     "name": "stdout",
     "output_type": "stream",
     "text": [
      "Exercise 2.16\n",
      "This exercise is exactlly same with serveral other exercises, so I just list the answers.\n",
      "Exercise 2.16 (a) - 4, 1.3\n",
      "Exercise 2.16 (b) - 49200, 6240\n",
      "Exercise 2.16 (c) - 72200, 6240\n",
      "Exercise 2.16 (d) - 58000, 9100\n"
     ]
    }
   ],
   "source": [
    "print \"Exercise 2.16\"\n",
    "print \"This exercise is exactlly same with serveral other exercises, so I just list the answers.\"\n",
    "print \"Exercise 2.16 (a) - 4, 1.3\"\n",
    "print \"Exercise 2.16 (b) - 49200, 6240\"\n",
    "print \"Exercise 2.16 (c) - 72200, 6240\"\n",
    "print \"Exercise 2.16 (d) - 58000, 9100\""
   ]
  },
  {
   "cell_type": "code",
   "execution_count": 26,
   "metadata": {
    "collapsed": false
   },
   "outputs": [
    {
     "name": "stdout",
     "output_type": "stream",
     "text": [
      "Exercise 2.18\n",
      "The standard deviation is 10.0\n"
     ]
    }
   ],
   "source": [
    "print \"Exercise 2.18\"\n",
    "print \"The standard deviation is\", (1.0 * 5 / 9) * 18"
   ]
  },
  {
   "cell_type": "code",
   "execution_count": 27,
   "metadata": {
    "collapsed": false
   },
   "outputs": [
    {
     "name": "stdout",
     "output_type": "stream",
     "text": [
      "Exercise 2.19\n",
      "The mean of an employee's total weekly salary is 750\n",
      "The standard deviation of an employee's total weekly salary is 72\n",
      "The variance of an employee's total weekly salary is 5184\n"
     ]
    }
   ],
   "source": [
    "print \"Exercise 2.19\"\n",
    "print \"The mean of an employee's total weekly salary is\", 40 * 12 + 15 * 18\n",
    "print \"The standard deviation of an employee's total weekly salary is\", 4 * 18\n",
    "print \"The variance of an employee's total weekly salary is\", (4 * 18) ** 2"
   ]
  },
  {
   "cell_type": "code",
   "execution_count": 28,
   "metadata": {
    "collapsed": false
   },
   "outputs": [
    {
     "name": "stdout",
     "output_type": "stream",
     "text": [
      "Exercise 2.33\n"
     ]
    },
    {
     "data": {
      "image/png": "[encoded data removed]",
      "text/plain": [
       "<matplotlib.figure.Figure at 0x1104ff890>"
      ]
     },
     "metadata": {},
     "output_type": "display_data"
    }
   ],
   "source": [
    "print \"Exercise 2.33\"\n",
    "# Number\n",
    "n = 12\n",
    "k = np.arange(n+1)\n",
    "binomial = stats_2.binom.pmf(k, n, 0.65)  # possibility\n",
    "\n",
    "pl.stem(k, binomial, basefmt=\"k-\")\n",
    "pl.margins(0.1)"
   ]
  },
  {
   "cell_type": "code",
   "execution_count": 29,
   "metadata": {
    "collapsed": false
   },
   "outputs": [
    {
     "name": "stdout",
     "output_type": "stream",
     "text": [
      "Exercise 2.33 (a)\n",
      "The probability is 0.20391956679\n"
     ]
    }
   ],
   "source": [
    "print \"Exercise 2.33 (a)\"\n",
    "print \"The probability is\", binomial[7]"
   ]
  },
  {
   "cell_type": "code",
   "execution_count": 30,
   "metadata": {
    "collapsed": false
   },
   "outputs": [
    {
     "name": "stdout",
     "output_type": "stream",
     "text": [
      "Exercise 2.33 (b)\n",
      "The expected increase number of month is 7.8\n",
      "The expected change in the FNO Market Index Fund for next year is 22.2\n"
     ]
    }
   ],
   "source": [
    "print \"Exercise 2.33 (b)\"\n",
    "exp = expectation(range(13), [float(x) for x in binomial])\n",
    "print \"The expected increase number of month is\", exp\n",
    "print \"The expected change in the FNO Market Index Fund for next year is\", 9 * exp - 48"
   ]
  },
  {
   "cell_type": "code",
   "execution_count": 31,
   "metadata": {
    "collapsed": false
   },
   "outputs": [
    {
     "name": "stdout",
     "output_type": "stream",
     "text": [
      "Exercise 2.22\n",
      "The mean is 3081.4\n",
      "The variance is 1266773.4\n",
      "The standard deviation is 1125.51028427\n"
     ]
    }
   ],
   "source": [
    "print \"Exercise 2.22\"\n",
    "mean_dep = 147.8\n",
    "std_dep = 51.0\n",
    "mean_out = 63.2\n",
    "std_out = 37.0\n",
    "corr = 0.7\n",
    "cost_dep = 17\n",
    "cost_out = 9\n",
    "mean_total = cost_dep * mean_dep + cost_out * mean_out\n",
    "var_total = (cost_dep * std_dep) ** 2 + (cost_out * std_out) ** 2 + 2 * cost_dep * cost_out * std_dep * std_out * corr\n",
    "std_total = math.sqrt(var_total)\n",
    "print \"The mean is\", mean_total\n",
    "print \"The variance is\", var_total\n",
    "print \"The standard deviation is\", std_total"
   ]
  },
  {
   "cell_type": "code",
   "execution_count": 32,
   "metadata": {
    "collapsed": false
   },
   "outputs": [
    {
     "name": "stdout",
     "output_type": "stream",
     "text": [
      "Exercise 2.24\n",
      "Exercise 2.24 (a)\n",
      "The expected return is 0.175\n",
      "The standard deviation of this return is 0.001975\n"
     ]
    }
   ],
   "source": [
    "print \"Exercise 2.24\"\n",
    "E_x = 0.15\n",
    "E_y = 0.2\n",
    "std_x = 0.05\n",
    "std_y = 0.06\n",
    "corr = 0.3\n",
    "\n",
    "def cal_exp(x, y, percent_x=0.5, percent_y=0.5):\n",
    "    return percent_x * x + percent_y * y\n",
    "\n",
    "def cal_std(correlation, percent_x=0.5, percent_y=0.5):\n",
    "    return percent_x ** 2 * std_x ** 2 + percent_y ** 2 * std_y **2 + 2 * percent_x * percent_y * std_x * std_y * correlation\n",
    "\n",
    "expectation = cal_exp(E_x, E_y)\n",
    "std = cal_std(corr)\n",
    "\n",
    "print \"Exercise 2.24 (a)\"\n",
    "print \"The expected return is\", expectation\n",
    "print \"The standard deviation of this return is\", std"
   ]
  },
  {
   "cell_type": "code",
   "execution_count": 33,
   "metadata": {
    "collapsed": false
   },
   "outputs": [
    {
     "name": "stdout",
     "output_type": "stream",
     "text": [
      "Exercise 2.24 (b)\n",
      "When corr is 0.600000, the expectation is 0.175000\n",
      "When corr is 0.600000, the standard deviation is 0.002425\n",
      "When corr is -0.600000, the expectation is 0.175000\n",
      "When corr is -0.600000, the standard deviation is 0.000625\n",
      "When corr is -0.300000, the expectation is 0.175000\n",
      "When corr is -0.300000, the standard deviation is 0.001075\n",
      "When corr is 0.000000, the expectation is 0.175000\n",
      "When corr is 0.000000, the standard deviation is 0.001525\n"
     ]
    }
   ],
   "source": [
    "print \"Exercise 2.24 (b)\"\n",
    "for corr in [0.6, -0.6, -0.3, 0]:\n",
    "    print \"When corr is %f, the expectation is %f\" % (corr, cal_exp(E_x, E_y))\n",
    "    print \"When corr is %f, the standard deviation is %f\" % (corr, cal_std(corr))"
   ]
  },
  {
   "cell_type": "code",
   "execution_count": 34,
   "metadata": {
    "collapsed": false
   },
   "outputs": [
    {
     "name": "stdout",
     "output_type": "stream",
     "text": [
      "Exercise 2.24 (c)\n"
     ]
    }
   ],
   "source": [
    "print \"Exercise 2.24 (c)\"\n",
    "def return_plot(corr):\n",
    "    f_A = [1 - x * 0.05 for x in range(0, 21)]\n",
    "    exp_list = [cal_exp(E_x, E_y, x, 1-x) for x in f_A]\n",
    "    std_list = [cal_std(corr , x, 1-x) for x in f_A]\n",
    "    return exp_list, std_list\n",
    "\n",
    "exp_list, std_list = return_plot(0.3)"
   ]
  },
  {
   "cell_type": "code",
   "execution_count": 35,
   "metadata": {
    "collapsed": false
   },
   "outputs": [
    {
     "data": {
      "image/png": "[encoded data removed]",
      "text/plain": [
       "<matplotlib.figure.Figure at 0x11121cb50>"
      ]
     },
     "metadata": {},
     "output_type": "display_data"
    }
   ],
   "source": [
    "import matplotlib.pyplot as plt\n",
    "%matplotlib inline  \n",
    "\n",
    "plt.plot(exp_list, std_list)\n",
    "plt.axis([0.14, 0.21, 0.0015, 0.004])\n",
    "plt.ylabel('Return Plot for 2.24(c)')\n",
    "plt.show()"
   ]
  },
  {
   "cell_type": "code",
   "execution_count": 36,
   "metadata": {
    "collapsed": false
   },
   "outputs": [
    {
     "name": "stdout",
     "output_type": "stream",
     "text": [
      "Exercise 2.24 (d)\n"
     ]
    },
    {
     "data": {
      "image/png": "[encoded data removed]",
      "text/plain": [
       "<matplotlib.figure.Figure at 0x11121cb50>"
      ]
     },
     "metadata": {},
     "output_type": "display_data"
    }
   ],
   "source": [
    "print \"Exercise 2.24 (d)\"\n",
    "\n",
    "import matplotlib.pyplot as plt\n",
    "%matplotlib inline  \n",
    "\n",
    "for corr in [0.6, 0.3, 0, -0.3, -0.6]:\n",
    "    exp_list, std_list = return_plot(corr)\n",
    "    plt.plot(exp_list, std_list, label='corr=%s' % corr)\n",
    "plt.axis([0.14, 0.23, 0.0, 0.004])\n",
    "plt.ylabel('Return Plot for 2.24(d)')\n",
    "plt.legend()\n",
    "plt.show()"
   ]
  },
  {
   "cell_type": "code",
   "execution_count": null,
   "metadata": {
    "collapsed": true
   },
   "outputs": [],
   "source": []
  }
 ],
 "metadata": {
  "kernelspec": {
   "display_name": "Python 2",
   "language": "python",
   "name": "python2"
  },
  "language_info": {
   "codemirror_mode": {
    "name": "ipython",
    "version": 2
   },
   "file_extension": ".py",
   "mimetype": "text/x-python",
   "name": "python",
   "nbconvert_exporter": "python",
   "pygments_lexer": "ipython2",
   "version": "2.7.10"
  }
 },
 "nbformat": 4,
 "nbformat_minor": 0
}
