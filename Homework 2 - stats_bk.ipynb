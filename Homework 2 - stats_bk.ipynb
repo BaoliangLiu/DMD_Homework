{
 "cells": [
  {
   "cell_type": "code",
   "execution_count": 1,
   "metadata": {
    "collapsed": false
   },
   "outputs": [],
   "source": [
    "import numpy as np\n",
    "# data array\n",
    "import math\n",
    "\n",
    "def expectation(value_list, possibility_list=[]):\n",
    "    \"\"\"\n",
    "    Calculate expectation\n",
    "    \"\"\"\n",
    "    if not possibility_list:\n",
    "        possibility_list = [1 / len(value_list)] * len(value_list)\n",
    "    assert len(value_list) == len(possibility_list)\n",
    "        \n",
    "    return sum([1.0 * v * p for v, p in zip(value_list, possibility_list)])\n",
    "\n",
    "def variance(value_list, possibility_list=[]):\n",
    "    \"\"\"\n",
    "    Calculate variance\n",
    "    \"\"\"\n",
    "    if not possibility_list:\n",
    "        possibility_list = [1 / len(value_list)] * len(value_list)\n",
    "    assert len(value_list) == len(possibility_list)   \n",
    "    \n",
    "    exp = expectation(value_list, possibility_list)\n",
    "    return sum(([1.0 * (v - exp) ** 2 * p for v, p in zip(value_list, possibility_list)]))\n",
    "\n",
    "def standard_deviation(value_list, possibility_list=[]):\n",
    "    var = variance(value_list, possibility_list)\n",
    "    return math.sqrt(var)\n",
    "\n",
    "def stats(value_list, possibility_list=[]):\n",
    "    \"\"\"\n",
    "    Calculate expectation, variance and standard deviation\n",
    "    \"\"\"\n",
    "    exp = expectation(value_list, possibility_list)\n",
    "    var = variance(value_list, possibility_list)\n",
    "    std = standard_deviation(value_list, possibility_list)\n",
    "    return exp, var, std\n",
    "\n",
    "def covariance(x_value_list, y_value_list, possibility_list=[]):\n",
    "    \"\"\"\n",
    "    Calculate covariance\n",
    "    \"\"\"\n",
    "    #if not possibility_list:\n",
    "    #    possibility_list = [1 / len(x_value_list)] * len(x_value_list)\n",
    "    #assert len(value_list) == len(possibility_list)\n",
    "    x_exp = expectation(x_value_list, possibility_list)\n",
    "    y_exp = expectation(y_value_list, possibility_list)\n",
    "    return sum([p * (x - x_exp) * (y - y_exp) for x, y, p in zip(x_value_list, y_value_list, possibility_list)])\n",
    "\n",
    "def correlation(x_value_list, y_value_list, possibility_list=[]):\n",
    "    cov = covariance(x_value_list, y_value_list, possibility_list)\n",
    "    x_std = standard_deviation(x_value_list, possibility_list)\n",
    "    y_std = standard_deviation(y_value_list, possibility_list)\n",
    "    return cov / (x_std * y_std)"
   ]
  },
  {
   "cell_type": "code",
   "execution_count": 2,
   "metadata": {
    "collapsed": false
   },
   "outputs": [
    {
     "name": "stdout",
     "output_type": "stream",
     "text": [
      "Exercise 2.21\n",
      "The distribution of the data is \n",
      "[{'sales': 15, 'possibility': 0.1, 'revenue': 1.53}\n",
      " {'sales': 20, 'possibility': 0.2, 'revenue': 1.06}\n",
      " {'sales': 25, 'possibility': 0.25, 'revenue': 2.16}\n",
      " {'sales': 30, 'possibility': 0.25, 'revenue': 3.85}\n",
      " {'sales': 35, 'possibility': 0.2, 'revenue': 4.03}]\n",
      "Exercise 2.21 (a)\n",
      "The expectation of sales is 26.25\n",
      "The variance of sales is 39.6875\n",
      "The standard deviation of sales is 6.29980158418\n"
     ]
    }
   ],
   "source": [
    "print \"Exercise 2.21\"\n",
    "array = np.array([\n",
    "    {'possibility': 0.10, 'sales': 15, 'revenue': 1.53},\n",
    "    {'possibility': 0.20, 'sales': 20, 'revenue': 1.06},\n",
    "    {'possibility': 0.25, 'sales': 25, 'revenue': 2.16},\n",
    "    {'possibility': 0.25, 'sales': 30, 'revenue': 3.85},\n",
    "    {'possibility': 0.20, 'sales': 35, 'revenue': 4.03}])\n",
    "print \"The distribution of the data is \\n\", array\n",
    "\n",
    "exp, var, std = stats([x['sales'] for x in array], [x['possibility'] for x in array])\n",
    "\n",
    "print \"Exercise 2.21 (a)\"\n",
    "print \"The expectation of sales is\", exp\n",
    "print \"The variance of sales is\", var\n",
    "print \"The standard deviation of sales is\", std"
   ]
  },
  {
   "cell_type": "code",
   "execution_count": 3,
   "metadata": {
    "collapsed": false,
    "scrolled": true
   },
   "outputs": [
    {
     "name": "stdout",
     "output_type": "stream",
     "text": [
      "Exercise 2.21 (b)\n",
      "The expectation of revenue is 2.6735\n",
      "The variance of revenue is 1.43141275\n",
      "The standard deviation of revenue is 1.19641662894\n"
     ]
    }
   ],
   "source": [
    "exp, var, std = stats([x['revenue'] for x in array], [x['possibility'] for x in array])\n",
    "\n",
    "print \"Exercise 2.21 (b)\"\n",
    "print \"The expectation of revenue is\", exp\n",
    "print \"The variance of revenue is\", var\n",
    "print \"The standard deviation of revenue is\", std"
   ]
  },
  {
   "cell_type": "code",
   "execution_count": 4,
   "metadata": {
    "collapsed": false
   },
   "outputs": [
    {
     "name": "stdout",
     "output_type": "stream",
     "text": [
      "Exercise 2.21 (c)\n",
      "The covariance of sales and revenue is 6.940625\n",
      "The correlation of sales and revenue is 0.920850796896\n"
     ]
    }
   ],
   "source": [
    "cov = covariance([x['sales'] for x in array], [x['revenue'] for x in array], [x['possibility'] for x in array])\n",
    "corr =  correlation([x['sales'] for x in array], [x['revenue'] for x in array], [x['possibility'] for x in array])\n",
    "print \"Exercise 2.21 (c)\"\n",
    "print \"The covariance of sales and revenue is\", cov\n",
    "print \"The correlation of sales and revenue is\", corr"
   ]
  },
  {
   "cell_type": "code",
   "execution_count": 5,
   "metadata": {
    "collapsed": false
   },
   "outputs": [
    {
     "name": "stdout",
     "output_type": "stream",
     "text": [
      "Exercise 2.23\n",
      "CORR(X, Y) is -0.407834101382\n"
     ]
    }
   ],
   "source": [
    "expectation_x = 0.25\n",
    "expectation_y = 33.1\n",
    "std_x = 7.0\n",
    "std_y = 6.2\n",
    "covariance = -17.7\n",
    "\n",
    "correlation = covariance/ (std_x * std_y)\n",
    "print \"Exercise 2.23\"\n",
    "print \"CORR(X, Y) is\", correlation"
   ]
  },
  {
   "cell_type": "code",
   "execution_count": 6,
   "metadata": {
    "collapsed": false
   },
   "outputs": [
    {
     "name": "stdout",
     "output_type": "stream",
     "text": [
      "Exercise 2.20\n",
      "Exercise 2.20 (a)\n",
      "The mean of X is 227\n"
     ]
    }
   ],
   "source": [
    "Andover_exp = 91\n",
    "Andover_std = 3.2\n",
    "Bedford_exp = 67\n",
    "Bedford_std = 2.2\n",
    "Concord_exp = 69\n",
    "Concord_std = 5.7\n",
    "\n",
    "expectation = Andover_exp + Bedford_exp + Concord_exp\n",
    "print \"Exercise 2.20\"\n",
    "print \"Exercise 2.20 (a)\"\n",
    "print \"The mean of X is\", expectation"
   ]
  },
  {
   "cell_type": "code",
   "execution_count": 7,
   "metadata": {
    "collapsed": false
   },
   "outputs": [
    {
     "name": "stdout",
     "output_type": "stream",
     "text": [
      "Exercise 2.20 (b)\n",
      "The variance of X is 47.57\n",
      "The standard deviation of X is 6.89710084021\n"
     ]
    }
   ],
   "source": [
    "variance = Andover_std ** 2 + Bedford_std ** 2 + Concord_std ** 2\n",
    "std = math.sqrt(variance)\n",
    "print \"Exercise 2.20 (b)\"\n",
    "print \"The variance of X is\", variance\n",
    "print \"The standard deviation of X is\", std"
   ]
  },
  {
   "cell_type": "code",
   "execution_count": null,
   "metadata": {
    "collapsed": true
   },
   "outputs": [],
   "source": []
  }
 ],
 "metadata": {
  "kernelspec": {
   "display_name": "Python 2",
   "language": "python",
   "name": "python2"
  },
  "language_info": {
   "codemirror_mode": {
    "name": "ipython",
    "version": 2
   },
   "file_extension": ".py",
   "mimetype": "text/x-python",
   "name": "python",
   "nbconvert_exporter": "python",
   "pygments_lexer": "ipython2",
   "version": "2.7.10"
  }
 },
 "nbformat": 4,
 "nbformat_minor": 0
}
